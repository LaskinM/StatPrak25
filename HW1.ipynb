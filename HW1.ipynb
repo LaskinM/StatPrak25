{
  "nbformat": 4,
  "nbformat_minor": 0,
  "metadata": {
    "colab": {
      "provenance": [],
      "authorship_tag": "ABX9TyPqwCeFruXuvLBKPuQe5ASy",
      "include_colab_link": true
    },
    "kernelspec": {
      "name": "python3",
      "display_name": "Python 3"
    },
    "language_info": {
      "name": "python"
    }
  },
  "cells": [
    {
      "cell_type": "markdown",
      "metadata": {
        "id": "view-in-github",
        "colab_type": "text"
      },
      "source": [
        "<a href=\"https://colab.research.google.com/github/LaskinM/StatPrak25/blob/main/HW1.ipynb\" target=\"_parent\"><img src=\"https://colab.research.google.com/assets/colab-badge.svg\" alt=\"Open In Colab\"/></a>"
      ]
    },
    {
      "cell_type": "code",
      "execution_count": null,
      "metadata": {
        "id": "_6MW_ky8yeYE"
      },
      "outputs": [],
      "source": []
    },
    {
      "cell_type": "markdown",
      "metadata": {
        "id": "xw8BD8v2oBGj"
      },
      "source": [
        "# Homework"
      ]
    },
    {
      "cell_type": "markdown",
      "metadata": {
        "id": "sSos7q2_oBGj"
      },
      "source": [
        "## Problem 1"
      ]
    },
    {
      "cell_type": "markdown",
      "metadata": {
        "id": "NiX8ePp0oBGk"
      },
      "source": [
        "Make a tuple containing natural numbers, the square of which is a multiple of 3, 4, but not a multiple of 8 and not exceeding 12345."
      ]
    },
    {
      "cell_type": "code",
      "execution_count": null,
      "metadata": {
        "colab": {
          "base_uri": "https://localhost:8080/"
        },
        "id": "XmPHEnS9oBGk",
        "outputId": "5a87704f-104d-4063-9d7e-36d7781fab56"
      },
      "outputs": [
        {
          "name": "stdout",
          "output_type": "stream",
          "text": [
            "(6, 18, 30, 42, 54, 66, 78, 90, 102)\n"
          ]
        }
      ],
      "source": [
        "# Your solution here\n",
        "res = tuple(x for x in range (int(sqrt(12346))) if (x**2 % 3 == 0 and x**2 % 4 == 0 and x**2 % 8 != 0))\n",
        "print(res)"
      ]
    },
    {
      "cell_type": "markdown",
      "metadata": {
        "id": "OZBeUyxcoBGk"
      },
      "source": [
        "## Problem 2"
      ]
    },
    {
      "cell_type": "markdown",
      "metadata": {
        "id": "zIfvg22noBGk"
      },
      "source": [
        "\n",
        "Write a function that takes a two-dimensional array and a string as input and returns an array rotated 90 degrees counterclockwise if the string 'left' was passed, and clockwise if the string 'right' was passed.\n",
        "\n",
        "Example for input: $\\begin{bmatrix} 1 & 2 & 3 \\\\ 4 & 5 & 6 \\\\ 7 & 8 & 9 \\end{bmatrix}$.\\\n",
        "If the string 'left' is passed, the function should return $\\begin{bmatrix} 3 & 6 & 9 \\\\ 2 & 5 & 8 \\\\ 1 & 4 & 7 \\end{bmatrix}$, and if the string 'right' is passed, the function should return $\\begin{bmatrix} 7 & 4 & 1 \\\\ 8 & 5 & 2 \\\\ 9 & 6 & 3 \\end{bmatrix}$."
      ]
    },
    {
      "cell_type": "code",
      "execution_count": null,
      "metadata": {
        "colab": {
          "base_uri": "https://localhost:8080/"
        },
        "id": "HNvy_cRjoBGk",
        "outputId": "57f05212-feab-483c-b4dd-c6020bdbbf47"
      },
      "outputs": [
        {
          "name": "stdout",
          "output_type": "stream",
          "text": [
            "[[3, 6, 9], [2, 5, 8], [1, 4, 7]]\n",
            "[[7, 4, 1], [8, 5, 2], [9, 6, 3]]\n"
          ]
        }
      ],
      "source": [
        "# Your solution here\n",
        "def rotate(matrix, direction):\n",
        "    if direction == 'left':\n",
        "        return [list(row) for row in zip(*matrix)][::-1]\n",
        "    if direction == 'right':\n",
        "        return [list(row) for row in zip(*matrix[::-1])]\n",
        "\n",
        "# Example usage:\n",
        "matrix = [[1, 2, 3], [4, 5, 6], [7, 8, 9]]\n",
        "print(rotate(matrix, 'left'))\n",
        "print(rotate(matrix, 'right'))"
      ]
    },
    {
      "cell_type": "markdown",
      "metadata": {
        "id": "_dY-PFlCoBGk"
      },
      "source": [
        "## Problem 3"
      ]
    },
    {
      "cell_type": "markdown",
      "metadata": {
        "id": "3CaIwcm0oBGk"
      },
      "source": [
        "Write a function that takes a string as input and returns a dictionary containing the number of occurrences of each character in the string.\n",
        "\n",
        "Example for the string 'hello, world!': {'h': 1, 'e': 1, 'l': 3, 'o': 2, ',': 1, ' ': 1, 'w': 1, 'r': 1, 'd': 1, '!': 1}."
      ]
    },
    {
      "cell_type": "code",
      "execution_count": null,
      "metadata": {
        "colab": {
          "base_uri": "https://localhost:8080/"
        },
        "id": "rlSbHusZoBGk",
        "outputId": "f3e25e99-dc81-4e6e-afb0-cc96d0cd867d"
      },
      "outputs": [
        {
          "output_type": "stream",
          "name": "stdout",
          "text": [
            "{'I': 1, ' ': 2, 'l': 1, 'i': 1, 'k': 1, 'e': 1, 'p': 1, 'y': 1, 't': 1, 'h': 1, 'o': 1, 'n': 1, '!': 1}\n"
          ]
        }
      ],
      "source": [
        "def dictionary(string):\n",
        "    char_count = {}\n",
        "    for char in string:\n",
        "        if char in char_count:\n",
        "            char_count[char] += 1\n",
        "        else:\n",
        "            char_count[char] = 1\n",
        "    return char_count\n",
        "\n",
        "string = 'I like python!'\n",
        "result = dictionary(string)\n",
        "print(result)"
      ]
    },
    {
      "cell_type": "markdown",
      "metadata": {
        "id": "KBGJ7PeboBGk"
      },
      "source": [
        "## Problem 4"
      ]
    },
    {
      "cell_type": "markdown",
      "metadata": {
        "id": "XS4Seqa9oBGk"
      },
      "source": [
        "### Implementing a Library Management System\n",
        "\n",
        "#### Description\n",
        "\n",
        "You are required to design and implement a system for managing books and users in a library. The system should allow for the management of books (adding, deleting, searching by various criteria) and users (registration, deletion, searching), as well as tracking the history of interactions between them (issuing and returning books).\n",
        "\n",
        "#### Tasks\n",
        "\n",
        "1. **`Book` Class**:\n",
        "   - Attributes: title, author, year of publication, ISBN, number of copies.\n",
        "   - Methods: constructor, methods to get information about the book, method to change the number of copies (when issuing and returning books).\n",
        "\n",
        "2. **`User` Class**:\n",
        "   - Attributes: user name, library card number, list of borrowed books.\n",
        "   - Methods: constructor, methods for user registration, methods for adding and removing books from the borrowed list.\n",
        "\n",
        "3. **`Library` Class**:\n",
        "   - Attributes: list of books, list of users, transaction history (who, when, which book was borrowed and returned).\n",
        "   - Methods: constructor, methods for adding and deleting books and users, methods for issuing and returning books, searching for books and users by various criteria, method to display the transaction history.\n",
        "\n",
        "#### Assignment\n",
        "\n",
        "1. Implement the `Book`, `User`, and `Library` classes with the specified attributes and methods.\n",
        "2. Create several books and users, and add them to the library system.\n",
        "3. Implement scenarios for issuing books to users and their return.\n",
        "4. Display the transaction history to show how books were issued and returned.\n"
      ]
    },
    {
      "cell_type": "code",
      "execution_count": null,
      "metadata": {
        "id": "IbqwtWWsoBGl",
        "colab": {
          "base_uri": "https://localhost:8080/"
        },
        "outputId": "ea474d2b-af42-48e8-8592-3849be242c7b"
      },
      "outputs": [
        {
          "output_type": "stream",
          "name": "stdout",
          "text": [
            "Book 'I like Statprak' issued to My brother.\n",
            "Search Results for Users by Name 'My brother': [{'name': 'My brother', 'card_number': '1', 'borrowed_books': [{'title': 'I like Statprak', 'author': 'Me', 'year': 2025, 'ISBN': '0', 'copies': 2}]}]\n",
            "Book 'I like Statprak' returned by My brother.\n",
            "Transaction History:\n",
            "My brother borrowed 'I like Statprak'\n",
            "My brother returned 'I like Statprak'\n",
            "Search Results for Books by Title 'I like Statprak': [{'title': 'I like Statprak', 'author': 'Me', 'year': 2025, 'ISBN': '0', 'copies': 3}]\n",
            "Search Results for Users by Name 'My brother': [{'name': 'My brother', 'card_number': '1', 'borrowed_books': []}]\n"
          ]
        }
      ],
      "source": [
        "# Your solution here\n",
        "class Book:\n",
        "    def __init__(self, title, author, year, isbn, copies):\n",
        "        self.title = title\n",
        "        self.author = author\n",
        "        self.year = year\n",
        "        self.isbn = isbn\n",
        "        self.copies = copies\n",
        "\n",
        "    def get_info(self):\n",
        "        return {\n",
        "            'title': self.title,\n",
        "            'author': self.author,\n",
        "            'year': self.year,\n",
        "            'ISBN': self.isbn,\n",
        "            'copies': self.copies\n",
        "        }\n",
        "\n",
        "    def change_copies(self, count):\n",
        "        self.copies += count\n",
        "\n",
        "\n",
        "class User:\n",
        "    def __init__(self, name, card_number):\n",
        "        self.name = name\n",
        "        self.card_number = card_number\n",
        "        self.borrowed_books = []\n",
        "\n",
        "    #Я не особо понял, что за \"methods for user registration\" внутри user, поэтому не делал его. Вроде бы добавления user в библиотеку достаточно\n",
        "\n",
        "    def borrow_book(self, book):\n",
        "        self.borrowed_books.append(book)\n",
        "\n",
        "    def return_book(self, book):\n",
        "        self.borrowed_books.remove(book)\n",
        "\n",
        "    def get_info(self):\n",
        "        return {\n",
        "            'name': self.name,\n",
        "            'card_number': self.card_number,\n",
        "            'borrowed_books': [book.get_info() for book in self.borrowed_books]\n",
        "        }\n",
        "\n",
        "\n",
        "class Library:\n",
        "    def __init__(self):\n",
        "        self.books = []\n",
        "        self.users = []\n",
        "        self.transaction_history = []\n",
        "\n",
        "    def add_book(self, book):\n",
        "        self.books.append(book)\n",
        "\n",
        "    def delete_book(self, isbn):\n",
        "        self.books = [book for book in self.books if book.isbn != isbn]\n",
        "\n",
        "    def add_user(self, user):\n",
        "        self.users.append(user)\n",
        "\n",
        "    def delete_user(self, card_number):\n",
        "        self.users = [user for user in self.users if user.card_number != card_number]\n",
        "\n",
        "    def issue_book(self, card_number, isbn):\n",
        "        user = next((user for user in self.users if user.card_number == card_number), None) #прежде чем брать книги, нужно регаться\n",
        "        book = next((book for book in self.books if book.isbn == isbn), None)\n",
        "\n",
        "        if user and book and book.copies > 0:\n",
        "            user.borrow_book(book)\n",
        "            book.change_copies(-1)\n",
        "            self.transaction_history.append(f\"{user.name} borrowed '{book.title}'\")\n",
        "            return f\"Book '{book.title}' issued to {user.name}.\"\n",
        "        return \"Error.\"\n",
        "\n",
        "    def return_book(self, card_number, isbn):\n",
        "        user = next((user for user in self.users if user.card_number == card_number), None) #прежде чем сдать книги - тоже\n",
        "        book = next((book for book in self.books if book.isbn == isbn), None) #нельзя вернуть левую книгу\n",
        "\n",
        "        if user and (book in user.borrowed_books):\n",
        "            user.return_book(book)\n",
        "            book.change_copies(1)\n",
        "            self.transaction_history.append(f\"{user.name} returned '{book.title}'\")\n",
        "            return f\"Book '{book.title}' returned by {user.name}.\"\n",
        "        return \"Error.\"\n",
        "\n",
        "    def search_books(self, title=None, author=None, year=None, isbn=None):\n",
        "        results = []\n",
        "        for book in self.books:\n",
        "            if (title and title.lower() in book.title.lower()) or \\\n",
        "               (author and author.lower() in book.author.lower()) or \\\n",
        "               (year and year == book.year) or \\\n",
        "               (isbn and isbn == book.isbn):\n",
        "                results.append(book.get_info())\n",
        "        return results\n",
        "\n",
        "    def search_users(self, name=None, card_number=None):\n",
        "        results = []\n",
        "        for user in self.users:\n",
        "            if (name and name.lower() in user.name.lower()) or \\\n",
        "               (card_number and card_number == user.card_number):\n",
        "                results.append(user.get_info())\n",
        "        return results\n",
        "\n",
        "    def display_transaction_history(self):\n",
        "        return self.transaction_history\n",
        "\n",
        "\n",
        "\n",
        "library = Library()\n",
        "\n",
        "book = Book(\"I like Statprak\", \"Me\", 2025, \"0\", 3)\n",
        "library.add_book(book)\n",
        "\n",
        "user = User(\"My brother\", \"1\")\n",
        "library.add_user(user)\n",
        "\n",
        "print(library.issue_book(\"1\", \"0\"))\n",
        "\n",
        "print(\"Search Results for Users by Name 'My brother':\", library.search_users(name=\"My brother\"))\n",
        "\n",
        "print(library.return_book(\"1\", \"0\"))\n",
        "\n",
        "print(\"Transaction History:\")\n",
        "for transaction in library.display_transaction_history():\n",
        "    print(transaction)\n",
        "print(\"Search Results for Books by Title 'I like Statprak':\", library.search_books(title=\"I like Statprak\"))\n",
        "print(\"Search Results for Users by Name 'My brother':\", library.search_users(name=\"My brother\"))\n"
      ]
    },
    {
      "cell_type": "markdown",
      "metadata": {
        "id": "0c8zRbSIoBGl"
      },
      "source": [
        "## Problem 5*"
      ]
    },
    {
      "cell_type": "markdown",
      "metadata": {
        "id": "8ltdzRmOoBGl"
      },
      "source": [
        "Explain why list `b` changes after the execution of the following code:\n",
        "\n",
        "```python\n",
        "a = [1, 2, 3]\n",
        "b = a\n",
        "a[0] = 4\n",
        "print(b)\n",
        "```"
      ]
    },
    {
      "cell_type": "markdown",
      "metadata": {
        "id": "RxgnUfFPoBGl"
      },
      "source": [
        "> Write your answer in markdown cell after: Дело в том, что когда мы пишем b = a, мы создаем не новый список, как копию старого, а создаем лишь новую ссылку на старый список. Поэтому все изменения, примененные к a будут применены и к b."
      ]
    },
    {
      "cell_type": "markdown",
      "metadata": {
        "id": "Mb-amOX5oBGl"
      },
      "source": []
    },
    {
      "cell_type": "markdown",
      "metadata": {
        "id": "TmXLkc_foBGl"
      },
      "source": [
        "## Problem 6*"
      ]
    },
    {
      "cell_type": "markdown",
      "metadata": {
        "id": "Gn0ibiVCoBGl"
      },
      "source": [
        "Let\n",
        "$$A = \\sum_{i=1}^{10000} \\frac{1}{i^2},\\quad B=\\sum_{i=10000}^{1} \\frac{1}{i^2}.$$\n",
        "Calculate the values of $A$ and $B$ and compare them. What do you observe? Explain why this happens. What is the best way to calculate the value of $\\sum\\limits_{i=1}^{10000} \\dfrac{1}{i^2}$?"
      ]
    },
    {
      "cell_type": "markdown",
      "source": [],
      "metadata": {
        "id": "9WJfy9a1HQTs"
      }
    },
    {
      "cell_type": "markdown",
      "source": [
        "Получились разные числа из-за представления дробных чисел в виде числе с плавающей запятой.\n",
        "\n",
        "Из-за разного порядка суммирования возникают разные ошибки округления, что приводит к разным результатам. При сложении очень маленьких чисел к уже накопленной сумме они могут \"теряться\" из-за ограниченной точности float. Подсчет B (суммирование от маленьких чисел к большим) точнее. Это связано с тем, что при таком подходе маленькие числа не теряются при сложении с уже накопленной суммой. Так ошибки округления меньше влияют на итоговый результат."
      ],
      "metadata": {
        "id": "gxswcRayHSKi"
      }
    },
    {
      "cell_type": "code",
      "execution_count": null,
      "metadata": {
        "id": "3q93uGqFoBGl",
        "colab": {
          "base_uri": "https://localhost:8080/"
        },
        "outputId": "7fa593af-6986-4c89-fbec-20cb0348e3e6"
      },
      "outputs": [
        {
          "output_type": "stream",
          "name": "stdout",
          "text": [
            "1.6448340618480652\n",
            "1.6448340618480597\n"
          ]
        }
      ],
      "source": [
        "# Your solution here\n",
        "A = 0\n",
        "for i in range (1, 10000):\n",
        "    A += 1/(i**2)\n",
        "print(A)\n",
        "\n",
        "B = 0\n",
        "for i in range (10000-1, 0, -1):\n",
        "    B += 1/(i**2)\n",
        "print(B)"
      ]
    }
  ]
}